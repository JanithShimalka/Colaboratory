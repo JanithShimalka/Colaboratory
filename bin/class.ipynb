{
 "cells": [
  {
   "cell_type": "code",
   "execution_count": 52,
   "id": "dba2ff45",
   "metadata": {},
   "outputs": [
    {
     "name": "stdout",
     "output_type": "stream",
     "text": [
      "Enter Your Number 19\n",
      "11001\n",
      "10011"
     ]
    }
   ],
   "source": [
    "import numpy as np\n",
    "N=int(input(\"Enter Your Number \"))\n",
    "st=list()\n",
    "while(N>0):\n",
    "    d=N%2\n",
    "    st.append(d)\n",
    "    print(d,end=\"\")\n",
    "    N=int(N/2)\n",
    "print()   \n",
    "i = 1\n",
    "while(i<=len(st)):\n",
    "    \n",
    "    print(st[-1*i], end =\"\")\n",
    "    i=i+1\n",
    "    \n",
    "    "
   ]
  },
  {
   "cell_type": "code",
   "execution_count": 41,
   "id": "27cac366",
   "metadata": {},
   "outputs": [
    {
     "name": "stdout",
     "output_type": "stream",
     "text": [
      "Enter Number8\n"
     ]
    },
    {
     "data": {
      "text/plain": [
       "21"
      ]
     },
     "execution_count": 41,
     "metadata": {},
     "output_type": "execute_result"
    }
   ],
   "source": [
    "def fib(n):\n",
    "    if (n == 0):\n",
    "        return 0\n",
    "    elif (n == 1):\n",
    "        return 1\n",
    "    else:\n",
    "        return(fib(n-1)+fib(n-2))\n",
    "    \n",
    "d=fib(int(input(\"Enter Number\")))\n",
    "d"
   ]
  },
  {
   "cell_type": "code",
   "execution_count": 48,
   "id": "dbb1528d",
   "metadata": {},
   "outputs": [
    {
     "name": "stdout",
     "output_type": "stream",
     "text": [
      "3, 6, 9, 12, 15, 18, 21, 24, 27, 30, "
     ]
    }
   ],
   "source": [
    "def q9(n):\n",
    "    if (n == 1):\n",
    "        return 3\n",
    "    \n",
    "    else:\n",
    "        return (q9(n-1)+3)\n",
    "    \n",
    "i = 1\n",
    "while(i<=10):\n",
    "    d = q9(i)\n",
    "    print(d, end =\", \")\n",
    "    i=i+1\n",
    "    "
   ]
  },
  {
   "cell_type": "code",
   "execution_count": 50,
   "id": "5ff83b7e",
   "metadata": {},
   "outputs": [
    {
     "name": "stdout",
     "output_type": "stream",
     "text": [
      "55\n"
     ]
    }
   ],
   "source": [
    "def q10(n):\n",
    "    if (n == 0):\n",
    "        return 0\n",
    "    \n",
    "    else:\n",
    "        return (n+(q10(n-1)))\n",
    "    \n",
    "print(q10(10))"
   ]
  },
  {
   "cell_type": "code",
   "execution_count": null,
   "id": "f13e6d89",
   "metadata": {},
   "outputs": [],
   "source": []
  }
 ],
 "metadata": {
  "kernelspec": {
   "display_name": "Python 3 (ipykernel)",
   "language": "python",
   "name": "python3"
  },
  "language_info": {
   "codemirror_mode": {
    "name": "ipython",
    "version": 3
   },
   "file_extension": ".py",
   "mimetype": "text/x-python",
   "name": "python",
   "nbconvert_exporter": "python",
   "pygments_lexer": "ipython3",
   "version": "3.10.9"
  }
 },
 "nbformat": 4,
 "nbformat_minor": 5
}
